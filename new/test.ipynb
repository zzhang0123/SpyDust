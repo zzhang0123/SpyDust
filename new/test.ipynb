{
 "cells": [
  {
   "cell_type": "code",
   "execution_count": 1,
   "metadata": {},
   "outputs": [
    {
     "name": "stdout",
     "output_type": "stream",
     "text": [
      "l_a computed\n",
      "readPAH computed\n",
      "Loaded previously computed Jpeisrf arrays from file.\n",
      "Tev table already exists at /opt/homebrew/Caskroom/miniconda/base/envs/SpyDust/lib/python3.13/site-packages/SpyDust/Data_Files/Tev_30a_30chi.txt.\n",
      "I(Zg<0, parabolic) stored\n",
      "I(rot, e, Zg <> 0) stored\n",
      "I(Zg<0, parabolic) stored\n",
      "I(rot, e, Zg <> 0) stored\n",
      "Gaunt factor stored\n",
      "5.3382803478865665e-08 -0.3425\n"
     ]
    },
    {
     "name": "stderr",
     "output_type": "stream",
     "text": [
      "/opt/homebrew/Caskroom/miniconda/base/envs/SpyDust/lib/python3.13/site-packages/SpyDust/free_free.py:27: FutureWarning: The 'delim_whitespace' keyword in pd.read_csv is deprecated and will be removed in a future version. Use ``sep='\\s+'`` instead\n",
      "  data = pd.read_csv(gff_data_file, delim_whitespace=True, comment=';', header=None, names=['gamma2', 'u', 'gff'])\n"
     ]
    }
   ],
   "source": [
    "from SpyDust.AngMomDist import log_f_rot\n",
    "\n",
    "from SpyDust.util import cgsconst\n",
    "\n",
    "from SpyDust.Grain import *\n",
    "\n",
    "CNM_params = {'nh' : 30, 'T': 100., 'Chi': 1, 'xh': 1.2e-3, 'xC': 3e-4, 'y' : 0, 'gamma': 0, 'dipole': 9.3, 'line':7}\n",
    "\n",
    "\n",
    "grain_obj = grain_distribution()\n",
    "f_a_beta = grain_obj.shape_and_size_dist(6, a_weighted=True, normalize=True)\n",
    "a_tab = grain_obj.a_tab\n",
    "beta_tab = grain_obj.beta_tab\n",
    "\n",
    "debye = cgsconst.debye\n",
    "\n",
    "dip_per_at = CNM_params['dipole'] / np.sqrt(N_C(1e-7) + N_H(1e-7)) * debye\n",
    "\n",
    "aind = 5\n",
    "a = a_tab[aind]\n",
    "beta = beta_tab[np.argmax(f_a_beta[aind, :])]\n",
    "print(a, beta)"
   ]
  },
  {
   "cell_type": "code",
   "execution_count": 2,
   "metadata": {},
   "outputs": [
    {
     "data": {
      "text/plain": [
       "(-60.0, -10.0)"
      ]
     },
     "execution_count": 2,
     "metadata": {},
     "output_type": "execute_result"
    },
    {
     "data": {
      "image/png": "[encoded data removed]",
      "text/plain": [
       "<Figure size 640x480 with 1 Axes>"
      ]
     },
     "metadata": {},
     "output_type": "display_data"
    }
   ],
   "source": [
    "from SpyDust.AngMomDist import log_f_rot\n",
    "from SpyDust.charge_dist import charge_dist\n",
    "import matplotlib.pyplot as plt\n",
    "\n",
    "fZ = charge_dist(CNM_params, a, beta)\n",
    "Z2 = np.sum(fZ[0, :]**2 * fZ[1, :])\n",
    "mu_rms = rms_dipole(a, beta, Z2, dip_per_at)\n",
    "ip = 2/3\n",
    "mu_ip = np.array([mu_rms * np.sqrt(ip)])\n",
    "mu_op = np.array([mu_rms * np.sqrt(1 - ip)])\n",
    "f_Omega_1 = log_f_rot(CNM_params, a, beta, fZ, mu_ip, mu_op, omega_min=1e7, omega_max=3e13, Nomega=1000) \n",
    "\n",
    "omegas = makelogtab(1e7, 3e13, 1000)\n",
    "\n",
    "plt.plot(omegas, f_Omega_1[0], linestyle='--')\n",
    "plt.xscale('log')\n",
    "plt.ylabel(r'$\\log f(\\Omega)$')\n",
    "plt.xlabel(r'$\\Omega$')\n",
    "plt.ylim(-60, -10)"
   ]
  },
  {
   "cell_type": "code",
   "execution_count": 3,
   "metadata": {},
   "outputs": [],
   "source": [
    "from SpyDust.SED import mu2_f"
   ]
  },
  {
   "cell_type": "code",
   "execution_count": 5,
   "metadata": {},
   "outputs": [],
   "source": [
    "line=7\n",
    "grain_obj = grain_distribution()\n",
    "f_a_beta = grain_obj.shape_and_size_dist(line, normalize=False, fixed_thickness=True)\n",
    "a_tab = grain_obj.a_tab\n",
    "beta_tab = grain_obj.beta_tab\n",
    "mu2_rotation = mu2_f(CNM_params, a_tab, beta_tab, f_a_beta, \n",
    "                dip_per_at, \n",
    "                ip, Ndipole=1, tumbling=True, parallel=True, \n",
    "                contract_a=True, omega_min=1e7, omega_max=1e15, Nomega=1000, spdust_plasma=False)\n"
   ]
  },
  {
   "cell_type": "code",
   "execution_count": 6,
   "metadata": {},
   "outputs": [
    {
     "data": {
      "text/plain": [
       "array([-0.49  , -0.3425, -0.0475])"
      ]
     },
     "execution_count": 6,
     "metadata": {},
     "output_type": "execute_result"
    }
   ],
   "source": [
    "beta_tab"
   ]
  },
  {
   "cell_type": "code",
   "execution_count": 28,
   "metadata": {},
   "outputs": [],
   "source": [
    "mu2_rotation = np.sum(mu2_rotation, axis=1)"
   ]
  },
  {
   "cell_type": "code",
   "execution_count": 29,
   "metadata": {},
   "outputs": [
    {
     "data": {
      "text/plain": [
       "(3, 1000)"
      ]
     },
     "execution_count": 29,
     "metadata": {},
     "output_type": "execute_result"
    }
   ],
   "source": [
    "mu2_rotation.shape"
   ]
  },
  {
   "cell_type": "code",
   "execution_count": 85,
   "metadata": {},
   "outputs": [],
   "source": [
    "inx = np.where(omegas<3e10)[0]"
   ]
  },
  {
   "cell_type": "code",
   "execution_count": 86,
   "metadata": {},
   "outputs": [
    {
     "data": {
      "text/plain": [
       "array([1.00748493e+07, 1.02262330e+07, 1.03798912e+07, 1.05358584e+07,\n",
       "       1.06941691e+07, 1.08548585e+07, 1.10179625e+07, 1.11835172e+07,\n",
       "       1.13515595e+07, 1.15221268e+07, 1.16952571e+07, 1.18709888e+07,\n",
       "       1.20493610e+07, 1.22304134e+07, 1.24141863e+07, 1.26007205e+07,\n",
       "       1.27900576e+07, 1.29822397e+07, 1.31773094e+07, 1.33753102e+07,\n",
       "       1.35762862e+07, 1.37802821e+07, 1.39873431e+07, 1.41975154e+07,\n",
       "       1.44108458e+07, 1.46273816e+07, 1.48471711e+07, 1.50702631e+07,\n",
       "       1.52967073e+07, 1.55265540e+07, 1.57598543e+07, 1.59966602e+07,\n",
       "       1.62370243e+07, 1.64810001e+07, 1.67286419e+07, 1.69800046e+07,\n",
       "       1.72351444e+07, 1.74941178e+07, 1.77569826e+07, 1.80237971e+07,\n",
       "       1.82946207e+07, 1.85695138e+07, 1.88485373e+07, 1.91317534e+07,\n",
       "       1.94192251e+07, 1.97110163e+07, 2.00071919e+07, 2.03078179e+07,\n",
       "       2.06129610e+07, 2.09226891e+07, 2.12370712e+07, 2.15561772e+07,\n",
       "       2.18800780e+07, 2.22088457e+07, 2.25425535e+07, 2.28812755e+07,\n",
       "       2.32250871e+07, 2.35740648e+07, 2.39282861e+07, 2.42878300e+07,\n",
       "       2.46527764e+07, 2.50232063e+07, 2.53992024e+07, 2.57808481e+07,\n",
       "       2.61682284e+07, 2.65614294e+07, 2.69605386e+07, 2.73656447e+07,\n",
       "       2.77768380e+07, 2.81942098e+07, 2.86178530e+07, 2.90478618e+07,\n",
       "       2.94843319e+07, 2.99273603e+07, 3.03770456e+07, 3.08334879e+07,\n",
       "       3.12967886e+07, 3.17670508e+07, 3.22443791e+07, 3.27288797e+07,\n",
       "       3.32206604e+07, 3.37198305e+07, 3.42265010e+07, 3.47407848e+07,\n",
       "       3.52627961e+07, 3.57926511e+07, 3.63304677e+07, 3.68763654e+07,\n",
       "       3.74304657e+07, 3.79928919e+07, 3.85637691e+07, 3.91432242e+07,\n",
       "       3.97313861e+07, 4.03283856e+07, 4.09343557e+07, 4.15494309e+07,\n",
       "       4.21737482e+07, 4.28074465e+07, 4.34506666e+07, 4.41035517e+07,\n",
       "       4.47662469e+07, 4.54388998e+07, 4.61216599e+07, 4.68146790e+07,\n",
       "       4.75181114e+07, 4.82321134e+07, 4.89568440e+07, 4.96924644e+07,\n",
       "       5.04391380e+07, 5.11970311e+07, 5.19663123e+07, 5.27471525e+07,\n",
       "       5.35397256e+07, 5.43442078e+07, 5.51607781e+07, 5.59896181e+07,\n",
       "       5.68309121e+07, 5.76848473e+07, 5.85516137e+07, 5.94314040e+07,\n",
       "       6.03244139e+07, 6.12308421e+07, 6.21508902e+07, 6.30847629e+07,\n",
       "       6.40326678e+07, 6.49948158e+07, 6.59714210e+07, 6.69627005e+07,\n",
       "       6.79688749e+07, 6.89901680e+07, 7.00268069e+07, 7.10790222e+07,\n",
       "       7.21470480e+07, 7.32311219e+07, 7.43314849e+07, 7.54483819e+07,\n",
       "       7.65820612e+07, 7.77327751e+07, 7.89007795e+07, 8.00863342e+07,\n",
       "       8.12897029e+07, 8.25111533e+07, 8.37509571e+07, 8.50093900e+07,\n",
       "       8.62867321e+07, 8.75832673e+07, 8.88992841e+07, 9.02350753e+07,\n",
       "       9.15909379e+07, 9.29671736e+07, 9.43640884e+07, 9.57819931e+07,\n",
       "       9.72212032e+07, 9.86820386e+07, 1.00164824e+08, 1.01669890e+08,\n",
       "       1.03197571e+08, 1.04748207e+08, 1.06322142e+08, 1.07919728e+08,\n",
       "       1.09541318e+08, 1.11187274e+08, 1.12857962e+08, 1.14553754e+08,\n",
       "       1.16275026e+08, 1.18022162e+08, 1.19795551e+08, 1.21595586e+08,\n",
       "       1.23422668e+08, 1.25277204e+08, 1.27159606e+08, 1.29070293e+08,\n",
       "       1.31009689e+08, 1.32978227e+08, 1.34976343e+08, 1.37004484e+08,\n",
       "       1.39063098e+08, 1.41152646e+08, 1.43273590e+08, 1.45426404e+08,\n",
       "       1.47611566e+08, 1.49829561e+08, 1.52080884e+08, 1.54366035e+08,\n",
       "       1.56685523e+08, 1.59039863e+08, 1.61429579e+08, 1.63855203e+08,\n",
       "       1.66317273e+08, 1.68816339e+08, 1.71352955e+08, 1.73927687e+08,\n",
       "       1.76541105e+08, 1.79193793e+08, 1.81886340e+08, 1.84619345e+08,\n",
       "       1.87393415e+08, 1.90209169e+08, 1.93067232e+08, 1.95968239e+08,\n",
       "       1.98912837e+08, 2.01901680e+08, 2.04935433e+08, 2.08014771e+08,\n",
       "       2.11140379e+08, 2.14312952e+08, 2.17533195e+08, 2.20801826e+08,\n",
       "       2.24119571e+08, 2.27487167e+08, 2.30905365e+08, 2.34374925e+08,\n",
       "       2.37896617e+08, 2.41471226e+08, 2.45099547e+08, 2.48782387e+08,\n",
       "       2.52520565e+08, 2.56314912e+08, 2.60166272e+08, 2.64075503e+08,\n",
       "       2.68043473e+08, 2.72071066e+08, 2.76159177e+08, 2.80308715e+08,\n",
       "       2.84520604e+08, 2.88795780e+08, 2.93135195e+08, 2.97539813e+08,\n",
       "       3.02010614e+08, 3.06548594e+08, 3.11154760e+08, 3.15830138e+08,\n",
       "       3.20575768e+08, 3.25392706e+08, 3.30282022e+08, 3.35244804e+08,\n",
       "       3.40282157e+08, 3.45395200e+08, 3.50585072e+08, 3.55852925e+08,\n",
       "       3.61199934e+08, 3.66627285e+08, 3.72136188e+08, 3.77727866e+08,\n",
       "       3.83403565e+08, 3.89164546e+08, 3.95012091e+08, 4.00947501e+08,\n",
       "       4.06972095e+08, 4.13087214e+08, 4.19294219e+08, 4.25594489e+08,\n",
       "       4.31989426e+08, 4.38480453e+08, 4.45069014e+08, 4.51756573e+08,\n",
       "       4.58544619e+08, 4.65434662e+08, 4.72428234e+08, 4.79526890e+08,\n",
       "       4.86732210e+08, 4.94045796e+08, 5.01469275e+08, 5.09004299e+08,\n",
       "       5.16652544e+08, 5.24415710e+08, 5.32295524e+08, 5.40293740e+08,\n",
       "       5.48412136e+08, 5.56652518e+08, 5.65016720e+08, 5.73506601e+08,\n",
       "       5.82124050e+08, 5.90870984e+08, 5.99749348e+08, 6.08761118e+08,\n",
       "       6.17908297e+08, 6.27192921e+08, 6.36617055e+08, 6.46182795e+08,\n",
       "       6.55892269e+08, 6.65747636e+08, 6.75751089e+08, 6.85904853e+08,\n",
       "       6.96211186e+08, 7.06672381e+08, 7.17290765e+08, 7.28068700e+08,\n",
       "       7.39008582e+08, 7.50112846e+08, 7.61383962e+08, 7.72824436e+08,\n",
       "       7.84436814e+08, 7.96223678e+08, 8.08187650e+08, 8.20331391e+08,\n",
       "       8.32657603e+08, 8.45169027e+08, 8.57868447e+08, 8.70758687e+08,\n",
       "       8.83842614e+08, 8.97123139e+08, 9.10603216e+08, 9.24285842e+08,\n",
       "       9.38174063e+08, 9.52270966e+08, 9.66579688e+08, 9.81103411e+08,\n",
       "       9.95845367e+08, 1.01080883e+09, 1.02599714e+09, 1.04141366e+09,\n",
       "       1.05706183e+09, 1.07294513e+09, 1.08906709e+09, 1.10543130e+09,\n",
       "       1.12204139e+09, 1.13890106e+09, 1.15601407e+09, 1.17338421e+09,\n",
       "       1.19101536e+09, 1.20891143e+09, 1.22707640e+09, 1.24551432e+09,\n",
       "       1.26422929e+09, 1.28322546e+09, 1.30250707e+09, 1.32207840e+09,\n",
       "       1.34194381e+09, 1.36210772e+09, 1.38257460e+09, 1.40334902e+09,\n",
       "       1.42443559e+09, 1.44583901e+09, 1.46756403e+09, 1.48961549e+09,\n",
       "       1.51199830e+09, 1.53471742e+09, 1.55777792e+09, 1.58118493e+09,\n",
       "       1.60494364e+09, 1.62905936e+09, 1.65353743e+09, 1.67838331e+09,\n",
       "       1.70360251e+09, 1.72920066e+09, 1.75518345e+09, 1.78155665e+09,\n",
       "       1.80832613e+09, 1.83549784e+09, 1.86307784e+09, 1.89107225e+09,\n",
       "       1.91948730e+09, 1.94832931e+09, 1.97760470e+09, 2.00731997e+09,\n",
       "       2.03748175e+09, 2.06809673e+09, 2.09917173e+09, 2.13071366e+09,\n",
       "       2.16272954e+09, 2.19522648e+09, 2.22821172e+09, 2.26169259e+09,\n",
       "       2.29567655e+09, 2.33017114e+09, 2.36518404e+09, 2.40072304e+09,\n",
       "       2.43679605e+09, 2.47341109e+09, 2.51057630e+09, 2.54829995e+09,\n",
       "       2.58659044e+09, 2.62545627e+09, 2.66490609e+09, 2.70494869e+09,\n",
       "       2.74559296e+09, 2.78684795e+09, 2.82872283e+09, 2.87122691e+09,\n",
       "       2.91436966e+09, 2.95816067e+09, 3.00260968e+09, 3.04772657e+09,\n",
       "       3.09352138e+09, 3.14000431e+09, 3.18718568e+09, 3.23507599e+09,\n",
       "       3.28368589e+09, 3.33302621e+09, 3.38310791e+09, 3.43394212e+09,\n",
       "       3.48554017e+09, 3.53791353e+09, 3.59107384e+09, 3.64503293e+09,\n",
       "       3.69980281e+09, 3.75539565e+09, 3.81182382e+09, 3.86909988e+09,\n",
       "       3.92723656e+09, 3.98624680e+09, 4.04614372e+09, 4.10694064e+09,\n",
       "       4.16865110e+09, 4.23128880e+09, 4.29486770e+09, 4.35940192e+09,\n",
       "       4.42490583e+09, 4.49139399e+09, 4.55888120e+09, 4.62738246e+09,\n",
       "       4.69691302e+09, 4.76748833e+09, 4.83912410e+09, 4.91183627e+09,\n",
       "       4.98564099e+09, 5.06055470e+09, 5.13659406e+09, 5.21377597e+09,\n",
       "       5.29211761e+09, 5.37163641e+09, 5.45235005e+09, 5.53427648e+09,\n",
       "       5.61743392e+09, 5.70184089e+09, 5.78751614e+09, 5.87447874e+09,\n",
       "       5.96274803e+09, 6.05234365e+09, 6.14328552e+09, 6.23559387e+09,\n",
       "       6.32928924e+09, 6.42439246e+09, 6.52092470e+09, 6.61890742e+09,\n",
       "       6.71836241e+09, 6.81931181e+09, 6.92177806e+09, 7.02578396e+09,\n",
       "       7.13135264e+09, 7.23850759e+09, 7.34727263e+09, 7.45767197e+09,\n",
       "       7.56973015e+09, 7.68347211e+09, 7.79892314e+09, 7.91610893e+09,\n",
       "       8.03505553e+09, 8.15578942e+09, 8.27833744e+09, 8.40272686e+09,\n",
       "       8.52898534e+09, 8.65714096e+09, 8.78722224e+09, 8.91925810e+09,\n",
       "       9.05327792e+09, 9.18931151e+09, 9.32738913e+09, 9.46754148e+09,\n",
       "       9.60979975e+09, 9.75419557e+09, 9.90076108e+09, 1.00495289e+10,\n",
       "       1.02005320e+10, 1.03538041e+10, 1.05093793e+10, 1.06672921e+10,\n",
       "       1.08275777e+10, 1.09902717e+10, 1.11554103e+10, 1.13230304e+10,\n",
       "       1.14931690e+10, 1.16658641e+10, 1.18411542e+10, 1.20190781e+10,\n",
       "       1.21996755e+10, 1.23829865e+10, 1.25690519e+10, 1.27579132e+10,\n",
       "       1.29496122e+10, 1.31441917e+10, 1.33416949e+10, 1.35421658e+10,\n",
       "       1.37456489e+10, 1.39521896e+10, 1.41618337e+10, 1.43746279e+10,\n",
       "       1.45906195e+10, 1.48098566e+10, 1.50323880e+10, 1.52582630e+10,\n",
       "       1.54875320e+10, 1.57202460e+10, 1.59564568e+10, 1.61962168e+10,\n",
       "       1.64395794e+10, 1.66865988e+10, 1.69373299e+10, 1.71918284e+10,\n",
       "       1.74501509e+10, 1.77123551e+10, 1.79784990e+10, 1.82486420e+10,\n",
       "       1.85228442e+10, 1.88011664e+10, 1.90836708e+10, 1.93704200e+10,\n",
       "       1.96614778e+10, 1.99569091e+10, 2.02567795e+10, 2.05611557e+10,\n",
       "       2.08701054e+10, 2.11836974e+10, 2.15020014e+10, 2.18250882e+10,\n",
       "       2.21530296e+10, 2.24858987e+10, 2.28237694e+10, 2.31667169e+10,\n",
       "       2.35148175e+10, 2.38681487e+10, 2.42267889e+10, 2.45908181e+10,\n",
       "       2.49603171e+10, 2.53353681e+10, 2.57160547e+10, 2.61024614e+10,\n",
       "       2.64946742e+10, 2.68927803e+10, 2.72968684e+10, 2.77070282e+10,\n",
       "       2.81233511e+10, 2.85459295e+10, 2.89748576e+10, 2.94102307e+10,\n",
       "       2.98521457e+10])"
      ]
     },
     "execution_count": 86,
     "metadata": {},
     "output_type": "execute_result"
    }
   ],
   "source": [
    "omegas[inx]"
   ]
  },
  {
   "cell_type": "code",
   "execution_count": 87,
   "metadata": {},
   "outputs": [
    {
     "data": {
      "text/plain": [
       "[<matplotlib.lines.Line2D at 0x396ef2fd0>]"
      ]
     },
     "execution_count": 87,
     "metadata": {},
     "output_type": "execute_result"
    },
    {
     "data": {
      "image/png": "[encoded data removed]",
      "text/plain": [
       "<Figure size 640x480 with 1 Axes>"
      ]
     },
     "metadata": {},
     "output_type": "display_data"
    }
   ],
   "source": [
    "plt.loglog(omegas[inx], mu2_rotation[0,inx])"
   ]
  },
  {
   "cell_type": "code",
   "execution_count": 8,
   "metadata": {},
   "outputs": [],
   "source": [
    "from full_Stokes import spd_full_Stokes"
   ]
  },
  {
   "cell_type": "code",
   "execution_count": null,
   "metadata": {},
   "outputs": [],
   "source": []
  },
  {
   "cell_type": "code",
   "execution_count": 88,
   "metadata": {},
   "outputs": [],
   "source": [
    "test_class_0 = spd_full_Stokes(Omega_grid=omegas[inx], rot_dist_grid=mu2_rotation[0,inx], log_Omega=False, log_rot=False)\n",
    "test_class_1 = spd_full_Stokes(Omega_grid=omegas[inx], rot_dist_grid=mu2_rotation[1,inx], log_Omega=False, log_rot=False)\n",
    "test_class_2 = spd_full_Stokes(Omega_grid=omegas[inx], rot_dist_grid=mu2_rotation[2,inx], log_Omega=False, log_rot=False)"
   ]
  },
  {
   "cell_type": "markdown",
   "metadata": {},
   "source": []
  },
  {
   "cell_type": "code",
   "execution_count": 89,
   "metadata": {},
   "outputs": [],
   "source": [
    "from util import homogeneous_dist\n",
    "\n",
    "obs_omegas = np.arange(1, 200, 2)*1e9"
   ]
  },
  {
   "cell_type": "code",
   "execution_count": 90,
   "metadata": {},
   "outputs": [],
   "source": [
    "full_stokes_result_0=test_class_0.generate_SED(obs_omegas, beta_tab[0], 2/3, 1,\n",
    "                                                internal_dist=homogeneous_dist, \n",
    "                                                external_dist=homogeneous_dist, \n",
    "                                                max_workers=1, \n",
    "                                                full_Stokes=True)"
   ]
  },
  {
   "cell_type": "code",
   "execution_count": 91,
   "metadata": {},
   "outputs": [],
   "source": [
    "full_stokes_result_1=test_class_1.generate_SED(obs_omegas, beta_tab[1], 2/3, 1,\n",
    "                                            internal_dist=homogeneous_dist, \n",
    "                                            external_dist=homogeneous_dist, \n",
    "                                            max_workers=1, \n",
    "                                            full_Stokes=True)"
   ]
  },
  {
   "cell_type": "code",
   "execution_count": 92,
   "metadata": {},
   "outputs": [],
   "source": [
    "full_stokes_result_2=test_class_2.generate_SED(obs_omegas, beta_tab[2], 2/3, 1,\n",
    "                                            internal_dist=homogeneous_dist, \n",
    "                                            impulse=1,\n",
    "                                            external_dist=homogeneous_dist, \n",
    "                                            max_workers=1, \n",
    "                                            full_Stokes=True)"
   ]
  },
  {
   "cell_type": "markdown",
   "metadata": {},
   "source": []
  },
  {
   "cell_type": "code",
   "execution_count": 93,
   "metadata": {},
   "outputs": [],
   "source": [
    "full_stokes_result_tot = full_stokes_result_0 + full_stokes_result_1 + full_stokes_result_2"
   ]
  },
  {
   "cell_type": "code",
   "execution_count": 94,
   "metadata": {},
   "outputs": [
    {
     "data": {
      "text/plain": [
       "(4, 100)"
      ]
     },
     "execution_count": 94,
     "metadata": {},
     "output_type": "execute_result"
    }
   ],
   "source": [
    "full_stokes_result_tot.shape"
   ]
  },
  {
   "cell_type": "code",
   "execution_count": 101,
   "metadata": {},
   "outputs": [
    {
     "data": {
      "text/plain": [
       "[<matplotlib.lines.Line2D at 0x396af5e50>]"
      ]
     },
     "execution_count": 101,
     "metadata": {},
     "output_type": "execute_result"
    },
    {
     "data": {
      "image/png": "[encoded data removed]",
      "text/plain": [
       "<Figure size 640x480 with 1 Axes>"
      ]
     },
     "metadata": {},
     "output_type": "display_data"
    }
   ],
   "source": [
    "plt.loglog(obs_omegas, full_stokes_result_1[0,:])\n",
    "#plt.ylim(1e-17,1e-12)"
   ]
  },
  {
   "cell_type": "code",
   "execution_count": 7,
   "metadata": {},
   "outputs": [],
   "source": [
    "import matplotlib.pyplot as plt\n",
    "%matplotlib inline"
   ]
  },
  {
   "cell_type": "code",
   "execution_count": 8,
   "metadata": {},
   "outputs": [
    {
     "ename": "NameError",
     "evalue": "name 'interp_func_1d' is not defined",
     "output_type": "error",
     "traceback": [
      "\u001b[31m---------------------------------------------------------------------------\u001b[39m",
      "\u001b[31mNameError\u001b[39m                                 Traceback (most recent call last)",
      "\u001b[36mCell\u001b[39m\u001b[36m \u001b[39m\u001b[32mIn[8]\u001b[39m\u001b[32m, line 5\u001b[39m\n\u001b[32m      2\u001b[39m y_grid = x_grid**\u001b[32m2\u001b[39m * \u001b[32m1e-5\u001b[39m  \u001b[38;5;66;03m# y = x² scaled\u001b[39;00m\n\u001b[32m      4\u001b[39m \u001b[38;5;66;03m# Create interpolator\u001b[39;00m\n\u001b[32m----> \u001b[39m\u001b[32m5\u001b[39m f = \u001b[43minterp_func_1d\u001b[49m(x_grid, y_grid, loglog_scale=\u001b[38;5;28;01mTrue\u001b[39;00m)\n\u001b[32m      7\u001b[39m \u001b[38;5;66;03m# Generate test points (include extrapolation)\u001b[39;00m\n\u001b[32m      8\u001b[39m x_test = np.logspace(\u001b[32m0\u001b[39m, \u001b[32m4\u001b[39m, \u001b[32m100\u001b[39m)  \u001b[38;5;66;03m# 10^0 to 10^4\u001b[39;00m\n",
      "\u001b[31mNameError\u001b[39m: name 'interp_func_1d' is not defined"
     ]
    }
   ],
   "source": [
    "x_grid = np.logspace(1, 3, 10)  # 10^1 to 10^3\n",
    "y_grid = x_grid**2 * 1e-5  # y = x² scaled\n",
    "\n",
    "# Create interpolator\n",
    "f = interp_func_1d(x_grid, y_grid, loglog_scale=True)\n",
    "\n",
    "# Generate test points (include extrapolation)\n",
    "x_test = np.logspace(0, 4, 100)  # 10^0 to 10^4\n",
    "y_true = x_test**2 * 1e-5\n",
    "y_interp = f(x_test)\n",
    "\n",
    "# Calculate relative error\n",
    "rel_error = np.abs(y_interp - y_true)/y_true\n",
    "print(f\"Max relative error: {np.max(rel_error):.2e}\")\n",
    "print(f\"Mean relative error: {np.mean(rel_error):.2e}\")\n",
    "\n",
    "# Plot results\n",
    "plt.figure(figsize=(10,5))\n",
    "plt.loglog(x_grid, y_grid, 'ro', label='Grid Points')\n",
    "plt.loglog(x_test, y_interp, 'b--', label='Interpolation')\n",
    "plt.loglog(x_test, y_true, 'g-', alpha=0.5, label='True Function')\n",
    "plt.xlabel('x (log scale)')\n",
    "plt.ylabel('y (log scale)')\n",
    "plt.title('Log-Log Interpolation Test')\n",
    "plt.legend()\n",
    "plt.grid(which='both', alpha=0.3)\n",
    "plt.show()"
   ]
  },
  {
   "cell_type": "code",
   "execution_count": null,
   "metadata": {},
   "outputs": [],
   "source": []
  }
 ],
 "metadata": {
  "kernelspec": {
   "display_name": "SpyDust",
   "language": "python",
   "name": "python3"
  },
  "language_info": {
   "codemirror_mode": {
    "name": "ipython",
    "version": 3
   },
   "file_extension": ".py",
   "mimetype": "text/x-python",
   "name": "python",
   "nbconvert_exporter": "python",
   "pygments_lexer": "ipython3",
   "version": "3.13.3"
  }
 },
 "nbformat": 4,
 "nbformat_minor": 2
}
