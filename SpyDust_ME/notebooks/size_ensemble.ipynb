{
 "cells": [
  {
   "cell_type": "code",
   "execution_count": 1,
   "id": "a562fffc",
   "metadata": {},
   "outputs": [
    {
     "name": "stdout",
     "output_type": "stream",
     "text": [
      "l_a computed\n",
      "readPAH computed\n",
      "Loaded previously computed Jpeisrf arrays from file.\n",
      "Tev table already exists at /Users/zzhang/Workspace/SpyDust/SpyDust/Data_Files/Tev_30a_30chi.txt.\n",
      "I(Zg<0, parabolic) stored\n",
      "I(rot, e, Zg <> 0) stored\n",
      "I(Zg<0, parabolic) stored\n",
      "I(rot, e, Zg <> 0) stored\n",
      "Gaunt factor stored\n"
     ]
    },
    {
     "name": "stderr",
     "output_type": "stream",
     "text": [
      "/Users/zzhang/Workspace/SpyDust/SpyDust/free_free.py:27: FutureWarning: The 'delim_whitespace' keyword in pd.read_csv is deprecated and will be removed in a future version. Use ``sep='\\s+'`` instead\n",
      "  data = pd.read_csv(gff_data_file, delim_whitespace=True, comment=';', header=None, names=['gamma2', 'u', 'gff'])\n"
     ]
    }
   ],
   "source": [
    "import sys\n",
    "import os\n",
    "import numpy as np\n",
    "import matplotlib.pyplot as plt\n",
    "from matplotlib.gridspec import GridSpec\n",
    "\n",
    "# Add the root directory of the package to sys.path\n",
    "sys.path.append('/Users/zzhang/Workspace/SpyDust/')\n",
    "sys.path.append('../')\n",
    "\n",
    "from SpyDust.Grain import *"
   ]
  },
  {
   "cell_type": "code",
   "execution_count": 2,
   "id": "9b51a9ca",
   "metadata": {},
   "outputs": [],
   "source": [
    "grain_obj = grain_distribution()\n",
    "f_a_beta = grain_obj.shape_and_size_dist(6, a_weighted=True, normalize=True)\n",
    "a_tab = grain_obj.a_tab\n",
    "beta_tab = grain_obj.beta_tab"
   ]
  },
  {
   "cell_type": "code",
   "execution_count": 5,
   "id": "730b6581",
   "metadata": {},
   "outputs": [],
   "source": [
    "from SpyDust.util import cgsconst\n",
    "from SpyDust.AngMomDist import log_f_rot\n",
    "from SpyDust.charge_dist import charge_dist\n",
    "\n",
    "aind = 5\n",
    "a = a_tab[aind]\n",
    "beta = beta_tab[np.argmax(f_a_beta[aind, :])]\n",
    "\n",
    "a_min = a_tab[0]\n",
    "a_max = a_tab[-1]\n",
    "beta_min = beta_tab[0]\n",
    "beta_max = beta_tab[-1]\n",
    "\n",
    "a_list = np.linspace(a_min, a_max, 100)\n",
    "beta_list = np.linspace(beta_min, beta_max, 100)\n"
   ]
  },
  {
   "cell_type": "code",
   "execution_count": 6,
   "id": "455656a8",
   "metadata": {},
   "outputs": [],
   "source": [
    "# ---------- helpers -------------------------------------------------\n",
    "def _normalise(w):\n",
    "    \"\"\"Turn any non–negative weight array into a PDF.\"\"\"\n",
    "    w = np.asarray(w, dtype=float)\n",
    "    if np.any(w < 0):                       # sanity check\n",
    "        raise ValueError(\"Weights must be non-negative.\")\n",
    "    s = w.sum()\n",
    "    if s == 0:\n",
    "        raise ValueError(\"All weights are zero → cannot normalise.\")\n",
    "    return w / s\n",
    "\n",
    "# ---------- 1. Power-law over discrete points -----------------------\n",
    "def power_law_pdf(x, gamma=1.0, decreasing=True):\n",
    "    \"\"\"\n",
    "    P(x_i) ∝ x_i^{±gamma}.  \n",
    "    decreasing=True  → negative slope (x^{-γ})  \n",
    "    decreasing=False → positive slope (x^{+γ})\n",
    "    \"\"\"\n",
    "    x = np.asarray(x)\n",
    "    if np.any(x <= 0):\n",
    "        raise ValueError(\"Power-law needs strictly positive x.\")\n",
    "    weights = x ** (-gamma if decreasing else gamma)\n",
    "    return _normalise(weights)\n",
    "\n",
    "# ---------- 2. Peaked (Gaussian) ------------------------------------\n",
    "def gaussian_pdf(x, mu=None, sigma=None):\n",
    "    \"\"\"\n",
    "    Discrete Gaussian on your grid.\n",
    "    By default, centre in the middle of the range and\n",
    "    use σ = 0.2 · (x_max – x_min).\n",
    "    \"\"\"\n",
    "    x = np.asarray(x, dtype=float)\n",
    "    if mu   is None: mu   = 0.5*(x.min() + x.max())\n",
    "    if sigma is None: sigma = 0.2*(x.max() - x.min())\n",
    "    weights = np.exp(-0.5*((x - mu)/sigma)**2)\n",
    "    return _normalise(weights)"
   ]
  },
  {
   "cell_type": "code",
   "execution_count": 7,
   "id": "b4aef5ca",
   "metadata": {},
   "outputs": [],
   "source": [
    "CNM_params = {'nh' : 30, 'T': 100., 'Chi': 1, 'xh': 1.2e-3, 'xC': 3e-4, 'y' : 0, 'gamma': 0, 'dipole': 9.3, 'line':7}"
   ]
  },
  {
   "cell_type": "code",
   "execution_count": 13,
   "id": "9c6491f7",
   "metadata": {},
   "outputs": [],
   "source": [
    "from util import homogeneous_dist\n",
    "from full_Stokes import full_Stokes_SED"
   ]
  },
  {
   "cell_type": "code",
   "execution_count": null,
   "id": "9716954d",
   "metadata": {},
   "outputs": [],
   "source": [
    "class spdust_conditional_SED:\n",
    "    def __init__(self, obs_omegas, int_dist_func=homogeneous_dist, ext_dist_func=homogeneous_dist, impulse=None):\n",
    "        self.obs_omegas = obs_omegas\n",
    "        self.int_dist_func = int_dist_func\n",
    "        self.ext_dist_func = ext_dist_func\n",
    "        self.impulse = impulse\n",
    "\n",
    "    @staticmethod\n",
    "    def generate_loglog_rot_dist_func(env, a, beta, mu, ip):\n",
    "        fZ = charge_dist(env, a, beta)\n",
    "        mu_ip = np.array([mu * np.sqrt(ip)])\n",
    "        mu_op = np.array([mu * np.sqrt(1 - ip)])\n",
    "        log_Omegas, log_rot_dist = log_f_rot(env, a, beta, fZ, mu_ip, mu_op, omega_min=1e7, omega_max=3e13, Nomega=1000)\n",
    "        return log_Omegas, log_rot_dist\n",
    "\n",
    "    def generate(self, env, a, beta, mu, ip):\n",
    "        self.log_omegas, self.log_rot_dist = self.generate_loglog_rot_dist_func(env, a, beta, mu, ip)\n",
    "        spdust_model = full_Stokes_SED(rot_freq_grid=self.log_omegas, rot_dist_grid=self.log_rot_dist,\n",
    "                                       log_freq=True, log_dist=True)\n",
    "        result = spdust_model.generate_SED(self.obs_omegas, beta, ip, mu**2,\n",
    "                                            internal_dist=self.int_dist_func, \n",
    "                                            impulse=self.impulse,\n",
    "                                            external_dist=self.ext_dist_func, \n",
    "                                            max_workers=1, \n",
    "                                            full_Stokes=False)\n",
    "\n",
    "        return result"
   ]
  },
  {
   "cell_type": "code",
   "execution_count": 15,
   "id": "b1eb6a3f",
   "metadata": {},
   "outputs": [],
   "source": [
    "obs_omegas_min = 2*np.pi*3e9\n",
    "obs_omegas_max = 2*np.pi*3e11\n",
    "obs_omegas_num = 1000\n",
    "obs_omegas = makelogtab(obs_omegas_min , obs_omegas_max , obs_omegas_num)\n",
    "\n",
    "spd_model = spdust_conditional_SED(obs_omegas)\n",
    "\n",
    "debye = cgsconst.debye\n",
    "env = CNM_params\n",
    "dip_per_at = env['dipole'] / np.sqrt(N_C(1e-7) + N_H(1e-7)) * debye\n",
    "\n",
    "\n",
    "beta = beta_min"
   ]
  },
  {
   "cell_type": "code",
   "execution_count": 16,
   "id": "e9e339ab",
   "metadata": {},
   "outputs": [],
   "source": [
    "def size_ensemble_positive_power():\n",
    "    spd_SED = 0.\n",
    "    a_pdf = power_law_pdf(a_tab, decreasing=False)\n",
    "    for i, a in enumerate(a_tab):\n",
    "        fZ = charge_dist(CNM_params, a, beta)\n",
    "        Z2 = np.sum(fZ[0, :]**2 * fZ[1, :])\n",
    "        mu_rms = rms_dipole(a, beta, Z2, dip_per_at)\n",
    "        spd_SED += spd_model.generate(CNM_params, a, beta, mu_rms, 2/3) * a_pdf[i]\n",
    "    return spd_SED\n",
    "\n",
    "def size_ensemble_negative_power():\n",
    "    spd_SED = 0.\n",
    "    a_pdf = power_law_pdf(a_tab, decreasing=True)\n",
    "    for i, a in enumerate(a_tab):\n",
    "        fZ = charge_dist(CNM_params, a, beta)\n",
    "        Z2 = np.sum(fZ[0, :]**2 * fZ[1, :])\n",
    "        mu_rms = rms_dipole(a, beta, Z2, dip_per_at)\n",
    "        spd_SED += spd_model.generate(CNM_params, a, beta, mu_rms, 2/3) * a_pdf[i]\n",
    "    return spd_SED\n",
    "\n",
    "def size_ensemble_gaussian():\n",
    "    spd_SED = 0.\n",
    "    a_pdf = gaussian_pdf(a_tab, mu=0.5*(a_min + a_max), sigma=0.2*(a_max - a_min))\n",
    "    for i, a in enumerate(a_tab):\n",
    "        fZ = charge_dist(CNM_params, a, beta)\n",
    "        Z2 = np.sum(fZ[0, :]**2 * fZ[1, :])\n",
    "        mu_rms = rms_dipole(a, beta, Z2, dip_per_at)\n",
    "        spd_SED += spd_model.generate(CNM_params, a, beta, mu_rms, 2/3) * a_pdf[i]\n",
    "    return spd_SED"
   ]
  },
  {
   "cell_type": "code",
   "execution_count": 17,
   "id": "a0b2a859",
   "metadata": {},
   "outputs": [],
   "source": [
    "SED_posi = size_ensemble_positive_power()\n",
    "SED_nega = size_ensemble_negative_power()\n",
    "SED_gaus = size_ensemble_gaussian()"
   ]
  },
  {
   "cell_type": "code",
   "execution_count": 18,
   "id": "59b5b057",
   "metadata": {},
   "outputs": [
    {
     "ename": "ValueError",
     "evalue": "x and y must have same first dimension, but have shapes (1000,) and (1, 4, 1000)",
     "output_type": "error",
     "traceback": [
      "\u001b[31m---------------------------------------------------------------------------\u001b[39m",
      "\u001b[31mValueError\u001b[39m                                Traceback (most recent call last)",
      "\u001b[36mCell\u001b[39m\u001b[36m \u001b[39m\u001b[32mIn[18]\u001b[39m\u001b[32m, line 1\u001b[39m\n\u001b[32m----> \u001b[39m\u001b[32m1\u001b[39m \u001b[43mplt\u001b[49m\u001b[43m.\u001b[49m\u001b[43mplot\u001b[49m\u001b[43m(\u001b[49m\u001b[43mobs_omegas\u001b[49m\u001b[43m,\u001b[49m\u001b[43m \u001b[49m\u001b[43mSED_posi\u001b[49m\u001b[43m,\u001b[49m\u001b[43m \u001b[49m\u001b[43mlabel\u001b[49m\u001b[43m=\u001b[49m\u001b[33;43m'\u001b[39;49m\u001b[33;43mpositive power law\u001b[39;49m\u001b[33;43m'\u001b[39;49m\u001b[43m)\u001b[49m\n\u001b[32m      2\u001b[39m plt.plot(obs_omegas, SED_nega, label=\u001b[33m'\u001b[39m\u001b[33mnegative power law\u001b[39m\u001b[33m'\u001b[39m)\n\u001b[32m      3\u001b[39m plt.plot(obs_omegas, SED_gaus, label=\u001b[33m'\u001b[39m\u001b[33mGaussian\u001b[39m\u001b[33m'\u001b[39m)\n",
      "\u001b[36mFile \u001b[39m\u001b[32m/opt/homebrew/Caskroom/miniconda/base/envs/SpyDust-dev/lib/python3.13/site-packages/matplotlib/pyplot.py:3827\u001b[39m, in \u001b[36mplot\u001b[39m\u001b[34m(scalex, scaley, data, *args, **kwargs)\u001b[39m\n\u001b[32m   3819\u001b[39m \u001b[38;5;129m@_copy_docstring_and_deprecators\u001b[39m(Axes.plot)\n\u001b[32m   3820\u001b[39m \u001b[38;5;28;01mdef\u001b[39;00m\u001b[38;5;250m \u001b[39m\u001b[34mplot\u001b[39m(\n\u001b[32m   3821\u001b[39m     *args: \u001b[38;5;28mfloat\u001b[39m | ArrayLike | \u001b[38;5;28mstr\u001b[39m,\n\u001b[32m   (...)\u001b[39m\u001b[32m   3825\u001b[39m     **kwargs,\n\u001b[32m   3826\u001b[39m ) -> \u001b[38;5;28mlist\u001b[39m[Line2D]:\n\u001b[32m-> \u001b[39m\u001b[32m3827\u001b[39m     \u001b[38;5;28;01mreturn\u001b[39;00m \u001b[43mgca\u001b[49m\u001b[43m(\u001b[49m\u001b[43m)\u001b[49m\u001b[43m.\u001b[49m\u001b[43mplot\u001b[49m\u001b[43m(\u001b[49m\n\u001b[32m   3828\u001b[39m \u001b[43m        \u001b[49m\u001b[43m*\u001b[49m\u001b[43margs\u001b[49m\u001b[43m,\u001b[49m\n\u001b[32m   3829\u001b[39m \u001b[43m        \u001b[49m\u001b[43mscalex\u001b[49m\u001b[43m=\u001b[49m\u001b[43mscalex\u001b[49m\u001b[43m,\u001b[49m\n\u001b[32m   3830\u001b[39m \u001b[43m        \u001b[49m\u001b[43mscaley\u001b[49m\u001b[43m=\u001b[49m\u001b[43mscaley\u001b[49m\u001b[43m,\u001b[49m\n\u001b[32m   3831\u001b[39m \u001b[43m        \u001b[49m\u001b[43m*\u001b[49m\u001b[43m*\u001b[49m\u001b[43m(\u001b[49m\u001b[43m{\u001b[49m\u001b[33;43m\"\u001b[39;49m\u001b[33;43mdata\u001b[39;49m\u001b[33;43m\"\u001b[39;49m\u001b[43m:\u001b[49m\u001b[43m \u001b[49m\u001b[43mdata\u001b[49m\u001b[43m}\u001b[49m\u001b[43m \u001b[49m\u001b[38;5;28;43;01mif\u001b[39;49;00m\u001b[43m \u001b[49m\u001b[43mdata\u001b[49m\u001b[43m \u001b[49m\u001b[38;5;129;43;01mis\u001b[39;49;00m\u001b[43m \u001b[49m\u001b[38;5;129;43;01mnot\u001b[39;49;00m\u001b[43m \u001b[49m\u001b[38;5;28;43;01mNone\u001b[39;49;00m\u001b[43m \u001b[49m\u001b[38;5;28;43;01melse\u001b[39;49;00m\u001b[43m \u001b[49m\u001b[43m{\u001b[49m\u001b[43m}\u001b[49m\u001b[43m)\u001b[49m\u001b[43m,\u001b[49m\n\u001b[32m   3832\u001b[39m \u001b[43m        \u001b[49m\u001b[43m*\u001b[49m\u001b[43m*\u001b[49m\u001b[43mkwargs\u001b[49m\u001b[43m,\u001b[49m\n\u001b[32m   3833\u001b[39m \u001b[43m    \u001b[49m\u001b[43m)\u001b[49m\n",
      "\u001b[36mFile \u001b[39m\u001b[32m/opt/homebrew/Caskroom/miniconda/base/envs/SpyDust-dev/lib/python3.13/site-packages/matplotlib/axes/_axes.py:1777\u001b[39m, in \u001b[36mAxes.plot\u001b[39m\u001b[34m(self, scalex, scaley, data, *args, **kwargs)\u001b[39m\n\u001b[32m   1534\u001b[39m \u001b[38;5;250m\u001b[39m\u001b[33;03m\"\"\"\u001b[39;00m\n\u001b[32m   1535\u001b[39m \u001b[33;03mPlot y versus x as lines and/or markers.\u001b[39;00m\n\u001b[32m   1536\u001b[39m \n\u001b[32m   (...)\u001b[39m\u001b[32m   1774\u001b[39m \u001b[33;03m(``'green'``) or hex strings (``'#008000'``).\u001b[39;00m\n\u001b[32m   1775\u001b[39m \u001b[33;03m\"\"\"\u001b[39;00m\n\u001b[32m   1776\u001b[39m kwargs = cbook.normalize_kwargs(kwargs, mlines.Line2D)\n\u001b[32m-> \u001b[39m\u001b[32m1777\u001b[39m lines = [*\u001b[38;5;28mself\u001b[39m._get_lines(\u001b[38;5;28mself\u001b[39m, *args, data=data, **kwargs)]\n\u001b[32m   1778\u001b[39m \u001b[38;5;28;01mfor\u001b[39;00m line \u001b[38;5;129;01min\u001b[39;00m lines:\n\u001b[32m   1779\u001b[39m     \u001b[38;5;28mself\u001b[39m.add_line(line)\n",
      "\u001b[36mFile \u001b[39m\u001b[32m/opt/homebrew/Caskroom/miniconda/base/envs/SpyDust-dev/lib/python3.13/site-packages/matplotlib/axes/_base.py:297\u001b[39m, in \u001b[36m_process_plot_var_args.__call__\u001b[39m\u001b[34m(self, axes, data, return_kwargs, *args, **kwargs)\u001b[39m\n\u001b[32m    295\u001b[39m     this += args[\u001b[32m0\u001b[39m],\n\u001b[32m    296\u001b[39m     args = args[\u001b[32m1\u001b[39m:]\n\u001b[32m--> \u001b[39m\u001b[32m297\u001b[39m \u001b[38;5;28;01myield from\u001b[39;00m \u001b[38;5;28;43mself\u001b[39;49m\u001b[43m.\u001b[49m\u001b[43m_plot_args\u001b[49m\u001b[43m(\u001b[49m\n\u001b[32m    298\u001b[39m \u001b[43m    \u001b[49m\u001b[43maxes\u001b[49m\u001b[43m,\u001b[49m\u001b[43m \u001b[49m\u001b[43mthis\u001b[49m\u001b[43m,\u001b[49m\u001b[43m \u001b[49m\u001b[43mkwargs\u001b[49m\u001b[43m,\u001b[49m\u001b[43m \u001b[49m\u001b[43mambiguous_fmt_datakey\u001b[49m\u001b[43m=\u001b[49m\u001b[43mambiguous_fmt_datakey\u001b[49m\u001b[43m,\u001b[49m\n\u001b[32m    299\u001b[39m \u001b[43m    \u001b[49m\u001b[43mreturn_kwargs\u001b[49m\u001b[43m=\u001b[49m\u001b[43mreturn_kwargs\u001b[49m\n\u001b[32m    300\u001b[39m \u001b[43m\u001b[49m\u001b[43m)\u001b[49m\n",
      "\u001b[36mFile \u001b[39m\u001b[32m/opt/homebrew/Caskroom/miniconda/base/envs/SpyDust-dev/lib/python3.13/site-packages/matplotlib/axes/_base.py:494\u001b[39m, in \u001b[36m_process_plot_var_args._plot_args\u001b[39m\u001b[34m(self, axes, tup, kwargs, return_kwargs, ambiguous_fmt_datakey)\u001b[39m\n\u001b[32m    491\u001b[39m     axes.yaxis.update_units(y)\n\u001b[32m    493\u001b[39m \u001b[38;5;28;01mif\u001b[39;00m x.shape[\u001b[32m0\u001b[39m] != y.shape[\u001b[32m0\u001b[39m]:\n\u001b[32m--> \u001b[39m\u001b[32m494\u001b[39m     \u001b[38;5;28;01mraise\u001b[39;00m \u001b[38;5;167;01mValueError\u001b[39;00m(\u001b[33mf\u001b[39m\u001b[33m\"\u001b[39m\u001b[33mx and y must have same first dimension, but \u001b[39m\u001b[33m\"\u001b[39m\n\u001b[32m    495\u001b[39m                      \u001b[33mf\u001b[39m\u001b[33m\"\u001b[39m\u001b[33mhave shapes \u001b[39m\u001b[38;5;132;01m{\u001b[39;00mx.shape\u001b[38;5;132;01m}\u001b[39;00m\u001b[33m and \u001b[39m\u001b[38;5;132;01m{\u001b[39;00my.shape\u001b[38;5;132;01m}\u001b[39;00m\u001b[33m\"\u001b[39m)\n\u001b[32m    496\u001b[39m \u001b[38;5;28;01mif\u001b[39;00m x.ndim > \u001b[32m2\u001b[39m \u001b[38;5;129;01mor\u001b[39;00m y.ndim > \u001b[32m2\u001b[39m:\n\u001b[32m    497\u001b[39m     \u001b[38;5;28;01mraise\u001b[39;00m \u001b[38;5;167;01mValueError\u001b[39;00m(\u001b[33mf\u001b[39m\u001b[33m\"\u001b[39m\u001b[33mx and y can be no greater than 2D, but have \u001b[39m\u001b[33m\"\u001b[39m\n\u001b[32m    498\u001b[39m                      \u001b[33mf\u001b[39m\u001b[33m\"\u001b[39m\u001b[33mshapes \u001b[39m\u001b[38;5;132;01m{\u001b[39;00mx.shape\u001b[38;5;132;01m}\u001b[39;00m\u001b[33m and \u001b[39m\u001b[38;5;132;01m{\u001b[39;00my.shape\u001b[38;5;132;01m}\u001b[39;00m\u001b[33m\"\u001b[39m)\n",
      "\u001b[31mValueError\u001b[39m: x and y must have same first dimension, but have shapes (1000,) and (1, 4, 1000)"
     ]
    },
    {
     "data": {
      "image/png": "[encoded data removed]",
      "text/plain": [
       "<Figure size 640x480 with 1 Axes>"
      ]
     },
     "metadata": {},
     "output_type": "display_data"
    }
   ],
   "source": [
    "plt.plot(obs_omegas, SED_posi, label='positive power law')\n",
    "plt.plot(obs_omegas, SED_nega, label='negative power law')\n",
    "plt.plot(obs_omegas, SED_gaus, label='Gaussian')\n",
    "plt.legend()\n",
    "plt.xscale('log')\n",
    "plt.yscale('log')\n",
    "plt.xlabel(r'$\\omega$ [rad/s]')\n",
    "plt.ylabel(r'Spectrum')"
   ]
  },
  {
   "cell_type": "code",
   "execution_count": null,
   "id": "dbd3d8de",
   "metadata": {},
   "outputs": [],
   "source": []
  }
 ],
 "metadata": {
  "kernelspec": {
   "display_name": "SpyDust-dev",
   "language": "python",
   "name": "python3"
  },
  "language_info": {
   "codemirror_mode": {
    "name": "ipython",
    "version": 3
   },
   "file_extension": ".py",
   "mimetype": "text/x-python",
   "name": "python",
   "nbconvert_exporter": "python",
   "pygments_lexer": "ipython3",
   "version": "3.13.3"
  }
 },
 "nbformat": 4,
 "nbformat_minor": 5
}
